{
 "cells": [
  {
   "cell_type": "code",
   "execution_count": 47,
   "id": "d013e0dd",
   "metadata": {},
   "outputs": [],
   "source": [
    "import pandas as pd\n",
    "import os,gc\n",
    "from dotenv import load_dotenv\n",
    "load_dotenv()\n",
    "\n",
    "# Example: load 4 CSVs\n",
    "df1 = pd.read_csv(\"dwlr_realtime_data.csv\")\n",
    "df2 = pd.read_csv(\"groundwater_quality_data.csv\")\n",
    "df3 = pd.read_csv(\"groundwater_trends_2015_2023.csv\")\n",
    "df4 = pd.read_csv(\"ingres_assessment_units_2023.csv\")\n",
    "\n",
    "\n",
    "\n"
   ]
  },
  {
   "cell_type": "code",
   "execution_count": null,
   "id": "41dc8fe7",
   "metadata": {},
   "outputs": [
    {
     "name": "stdout",
     "output_type": "stream",
     "text": [
      "pcsk_5GVyAe_3n3unEk9auouRXymiJEYnxJXgSxP3J4BGam9JY7Bp4XQD9FcPCxtiKxLakMBWFd\n"
     ]
    }
   ],
   "source": [
    "pinecone_api_key = os.environ[\"PINECONE_API_KEY\"]\n",
    "pinecone_index= os.environ[\"INDEX\"]\n",
    "gemini_api_key = os.environ[\"GEMINI_API_KEY\"]\n",
    "print(pinecone_api_key, pinecone_index, gemini_api_key)\n"
   ]
  },
  {
   "cell_type": "code",
   "execution_count": 50,
   "id": "34c370d8",
   "metadata": {},
   "outputs": [
    {
     "name": "stdout",
     "output_type": "stream",
     "text": [
      "✅ Cleared local memory and API keys (Pinecone cloud index is unaffected)\n"
     ]
    }
   ],
   "source": [
    "import os, gc   # ✅ import both together\n",
    "\n",
    "# Remove API keys from local environment\n",
    "os.environ.pop(\"PINECONE_API_KEY\", None)\n",
    "os.environ.pop(\"GEMINI_API_KEY\", None)\n",
    "\n",
    "# Force garbage collection to release memory\n",
    "gc.collect()\n",
    "\n",
    "print(\"✅ Cleared local memory and API keys (Pinecone cloud index is unaffected)\")\n"
   ]
  },
  {
   "cell_type": "code",
   "execution_count": 3,
   "id": "1a42f0fa",
   "metadata": {},
   "outputs": [],
   "source": [
    "def df_to_text(df, name):\n",
    "    docs = []\n",
    "    for _, row in df.iterrows():\n",
    "        text = f\"{name} Record: \" + \" | \".join([f\"{col}: {row[col]}\" for col in df.columns if pd.notna(row[col])])\n",
    "        docs.append(text)\n",
    "    return docs\n",
    "\n",
    "docs1 = df_to_text(df1, \"Realtime\")\n",
    "docs2 = df_to_text(df2, \"Quality\")\n",
    "docs3 = df_to_text(df3, \"Trend\")\n",
    "docs4 = df_to_text(df4, \"Assessment\")\n",
    "\n",
    "all_docs = docs1 + docs2 + docs3 + docs4\n"
   ]
  },
  {
   "cell_type": "code",
   "execution_count": 5,
   "id": "d8c1fe7e",
   "metadata": {},
   "outputs": [],
   "source": [
    "from langchain.text_splitter import RecursiveCharacterTextSplitter\n",
    "\n",
    "splitter = RecursiveCharacterTextSplitter(chunk_size=500, chunk_overlap=50)\n",
    "documents = splitter.create_documents(all_docs)\n"
   ]
  },
  {
   "cell_type": "code",
   "execution_count": 11,
   "id": "4adfcfab",
   "metadata": {},
   "outputs": [],
   "source": [
    "from langchain.embeddings import HuggingFaceEmbeddings\n",
    "#from langchain.vectorstores import Chroma\n",
    "\n",
    "embeddings = HuggingFaceEmbeddings(model_name=\"sentence-transformers/all-MiniLM-L6-v2\")\n",
    "\n",
    "#vectorstore = Chroma.from_documents(documents, embeddings, persist_directory=\"./chroma_db\")\n",
    "#vectorstore.persist()\n"
   ]
  },
  {
   "cell_type": "code",
   "execution_count": 13,
   "id": "7cd6a3d1",
   "metadata": {},
   "outputs": [
    {
     "name": "stdout",
     "output_type": "stream",
     "text": [
      "client=SentenceTransformer(\n",
      "  (0): Transformer({'max_seq_length': 256, 'do_lower_case': False, 'architecture': 'BertModel'})\n",
      "  (1): Pooling({'word_embedding_dimension': 384, 'pooling_mode_cls_token': False, 'pooling_mode_mean_tokens': True, 'pooling_mode_max_tokens': False, 'pooling_mode_mean_sqrt_len_tokens': False, 'pooling_mode_weightedmean_tokens': False, 'pooling_mode_lasttoken': False, 'include_prompt': True})\n",
      "  (2): Normalize()\n",
      ") model_name='sentence-transformers/all-MiniLM-L6-v2' cache_folder=None model_kwargs={} encode_kwargs={} multi_process=False show_progress=False\n"
     ]
    }
   ],
   "source": [
    "print(embeddings)"
   ]
  },
  {
   "cell_type": "code",
   "execution_count": 21,
   "id": "53dd6b88",
   "metadata": {},
   "outputs": [
    {
     "ename": "ValueError",
     "evalue": "Index 'sih' not found in your Pinecone project. Did you mean one of the following indexes: test, pdf-qa-index",
     "output_type": "error",
     "traceback": [
      "\u001b[31m---------------------------------------------------------------------------\u001b[39m",
      "\u001b[31mValueError\u001b[39m                                Traceback (most recent call last)",
      "\u001b[36mCell\u001b[39m\u001b[36m \u001b[39m\u001b[32mIn[21]\u001b[39m\u001b[32m, line 3\u001b[39m\n\u001b[32m      1\u001b[39m \u001b[38;5;28;01mfrom\u001b[39;00m\u001b[38;5;250m \u001b[39m\u001b[34;01mlangchain_community\u001b[39;00m\u001b[34;01m.\u001b[39;00m\u001b[34;01mvectorstores\u001b[39;00m\u001b[38;5;250m \u001b[39m\u001b[38;5;28;01mimport\u001b[39;00m Pinecone \u001b[38;5;28;01mas\u001b[39;00m PineconeVectorStore\n\u001b[32m----> \u001b[39m\u001b[32m3\u001b[39m vectorstore = \u001b[43mPineconeVectorStore\u001b[49m\u001b[43m.\u001b[49m\u001b[43mfrom_documents\u001b[49m\u001b[43m(\u001b[49m\n\u001b[32m      4\u001b[39m \u001b[43m    \u001b[49m\u001b[43mdocuments\u001b[49m\u001b[43m=\u001b[49m\u001b[43mdocuments\u001b[49m\u001b[43m,\u001b[49m\n\u001b[32m      5\u001b[39m \u001b[43m    \u001b[49m\u001b[43membedding\u001b[49m\u001b[43m=\u001b[49m\u001b[43membeddings\u001b[49m\u001b[43m,\u001b[49m\n\u001b[32m      6\u001b[39m \u001b[43m    \u001b[49m\u001b[43mindex_name\u001b[49m\u001b[43m=\u001b[49m\u001b[43mpinecone_index\u001b[49m\u001b[43m,\u001b[49m\n\u001b[32m      7\u001b[39m \u001b[43m)\u001b[49m\n",
      "\u001b[36mFile \u001b[39m\u001b[32m~\\AppData\\Roaming\\Python\\Python312\\site-packages\\langchain_core\\vectorstores\\base.py:848\u001b[39m, in \u001b[36mVectorStore.from_documents\u001b[39m\u001b[34m(cls, documents, embedding, **kwargs)\u001b[39m\n\u001b[32m    845\u001b[39m     \u001b[38;5;28;01mif\u001b[39;00m \u001b[38;5;28many\u001b[39m(ids):\n\u001b[32m    846\u001b[39m         kwargs[\u001b[33m\"\u001b[39m\u001b[33mids\u001b[39m\u001b[33m\"\u001b[39m] = ids\n\u001b[32m--> \u001b[39m\u001b[32m848\u001b[39m \u001b[38;5;28;01mreturn\u001b[39;00m \u001b[38;5;28;43mcls\u001b[39;49m\u001b[43m.\u001b[49m\u001b[43mfrom_texts\u001b[49m\u001b[43m(\u001b[49m\u001b[43mtexts\u001b[49m\u001b[43m,\u001b[49m\u001b[43m \u001b[49m\u001b[43membedding\u001b[49m\u001b[43m,\u001b[49m\u001b[43m \u001b[49m\u001b[43mmetadatas\u001b[49m\u001b[43m=\u001b[49m\u001b[43mmetadatas\u001b[49m\u001b[43m,\u001b[49m\u001b[43m \u001b[49m\u001b[43m*\u001b[49m\u001b[43m*\u001b[49m\u001b[43mkwargs\u001b[49m\u001b[43m)\u001b[49m\n",
      "\u001b[36mFile \u001b[39m\u001b[32m~\\AppData\\Roaming\\Python\\Python312\\site-packages\\langchain_community\\vectorstores\\pinecone.py:432\u001b[39m, in \u001b[36mPinecone.from_texts\u001b[39m\u001b[34m(cls, texts, embedding, metadatas, ids, batch_size, text_key, namespace, index_name, upsert_kwargs, pool_threads, embeddings_chunk_size, **kwargs)\u001b[39m\n\u001b[32m    389\u001b[39m \u001b[38;5;129m@classmethod\u001b[39m\n\u001b[32m    390\u001b[39m \u001b[38;5;28;01mdef\u001b[39;00m\u001b[38;5;250m \u001b[39m\u001b[34mfrom_texts\u001b[39m(\n\u001b[32m    391\u001b[39m     \u001b[38;5;28mcls\u001b[39m,\n\u001b[32m   (...)\u001b[39m\u001b[32m    403\u001b[39m     **kwargs: Any,\n\u001b[32m    404\u001b[39m ) -> Pinecone:\n\u001b[32m    405\u001b[39m \u001b[38;5;250m    \u001b[39m\u001b[33;03m\"\"\"\u001b[39;00m\n\u001b[32m    406\u001b[39m \u001b[33;03m    DEPRECATED: use langchain_pinecone.PineconeVectorStore.from_texts instead:\u001b[39;00m\n\u001b[32m    407\u001b[39m \u001b[33;03m    Construct Pinecone wrapper from raw documents.\u001b[39;00m\n\u001b[32m   (...)\u001b[39m\u001b[32m    430\u001b[39m \u001b[33;03m            )\u001b[39;00m\n\u001b[32m    431\u001b[39m \u001b[33;03m    \"\"\"\u001b[39;00m\n\u001b[32m--> \u001b[39m\u001b[32m432\u001b[39m     pinecone_index = \u001b[38;5;28;43mcls\u001b[39;49m\u001b[43m.\u001b[49m\u001b[43mget_pinecone_index\u001b[49m\u001b[43m(\u001b[49m\u001b[43mindex_name\u001b[49m\u001b[43m,\u001b[49m\u001b[43m \u001b[49m\u001b[43mpool_threads\u001b[49m\u001b[43m)\u001b[49m\n\u001b[32m    433\u001b[39m     pinecone = \u001b[38;5;28mcls\u001b[39m(pinecone_index, embedding, text_key, namespace, **kwargs)\n\u001b[32m    435\u001b[39m     pinecone.add_texts(\n\u001b[32m    436\u001b[39m         texts,\n\u001b[32m    437\u001b[39m         metadatas=metadatas,\n\u001b[32m   (...)\u001b[39m\u001b[32m    442\u001b[39m         **(upsert_kwargs \u001b[38;5;129;01mor\u001b[39;00m {}),\n\u001b[32m    443\u001b[39m     )\n",
      "\u001b[36mFile \u001b[39m\u001b[32m~\\AppData\\Roaming\\Python\\Python312\\site-packages\\langchain_community\\vectorstores\\pinecone.py:383\u001b[39m, in \u001b[36mPinecone.get_pinecone_index\u001b[39m\u001b[34m(cls, index_name, pool_threads)\u001b[39m\n\u001b[32m    377\u001b[39m     \u001b[38;5;28;01mraise\u001b[39;00m \u001b[38;5;167;01mValueError\u001b[39;00m(\n\u001b[32m    378\u001b[39m         \u001b[33m\"\u001b[39m\u001b[33mNo active indexes found in your Pinecone project, \u001b[39m\u001b[33m\"\u001b[39m\n\u001b[32m    379\u001b[39m         \u001b[33m\"\u001b[39m\u001b[33mare you sure you\u001b[39m\u001b[33m'\u001b[39m\u001b[33mre using the right Pinecone API key and Environment? \u001b[39m\u001b[33m\"\u001b[39m\n\u001b[32m    380\u001b[39m         \u001b[33m\"\u001b[39m\u001b[33mPlease double check your Pinecone dashboard.\u001b[39m\u001b[33m\"\u001b[39m\n\u001b[32m    381\u001b[39m     )\n\u001b[32m    382\u001b[39m \u001b[38;5;28;01melse\u001b[39;00m:\n\u001b[32m--> \u001b[39m\u001b[32m383\u001b[39m     \u001b[38;5;28;01mraise\u001b[39;00m \u001b[38;5;167;01mValueError\u001b[39;00m(\n\u001b[32m    384\u001b[39m         \u001b[33mf\u001b[39m\u001b[33m\"\u001b[39m\u001b[33mIndex \u001b[39m\u001b[33m'\u001b[39m\u001b[38;5;132;01m{\u001b[39;00mindex_name\u001b[38;5;132;01m}\u001b[39;00m\u001b[33m'\u001b[39m\u001b[33m not found in your Pinecone project. \u001b[39m\u001b[33m\"\u001b[39m\n\u001b[32m    385\u001b[39m         \u001b[33mf\u001b[39m\u001b[33m\"\u001b[39m\u001b[33mDid you mean one of the following indexes: \u001b[39m\u001b[38;5;132;01m{\u001b[39;00m\u001b[33m'\u001b[39m\u001b[33m, \u001b[39m\u001b[33m'\u001b[39m.join(index_names)\u001b[38;5;132;01m}\u001b[39;00m\u001b[33m\"\u001b[39m\n\u001b[32m    386\u001b[39m     )\n\u001b[32m    387\u001b[39m \u001b[38;5;28;01mreturn\u001b[39;00m index\n",
      "\u001b[31mValueError\u001b[39m: Index 'sih' not found in your Pinecone project. Did you mean one of the following indexes: test, pdf-qa-index"
     ]
    }
   ],
   "source": [
    "from langchain_community.vectorstores import Pinecone as PineconeVectorStore\n",
    "\n",
    "vectorstore = PineconeVectorStore.from_documents(\n",
    "    documents=documents,\n",
    "    embedding=embeddings,\n",
    "    index_name=pinecone_index,\n",
    ")"
   ]
  },
  {
   "cell_type": "code",
   "execution_count": null,
   "id": "85b3bc9e",
   "metadata": {},
   "outputs": [],
   "source": []
  }
 ],
 "metadata": {
  "kernelspec": {
   "display_name": "base",
   "language": "python",
   "name": "python3"
  },
  "language_info": {
   "codemirror_mode": {
    "name": "ipython",
    "version": 3
   },
   "file_extension": ".py",
   "mimetype": "text/x-python",
   "name": "python",
   "nbconvert_exporter": "python",
   "pygments_lexer": "ipython3",
   "version": "3.12.7"
  }
 },
 "nbformat": 4,
 "nbformat_minor": 5
}
